{
 "cells": [
  {
   "cell_type": "code",
   "execution_count": 1,
   "id": "77f37c93-2f62-4287-bac7-282ba70ec29e",
   "metadata": {},
   "outputs": [
    {
     "name": "stdout",
     "output_type": "stream",
     "text": [
      "Collecting redis\n",
      "  Downloading redis-6.0.0-py3-none-any.whl.metadata (10 kB)\n",
      "Downloading redis-6.0.0-py3-none-any.whl (268 kB)\n",
      "\u001b[2K   \u001b[90m━━━━━━━━━━━━━━━━━━━━━━━━━━━━━━━━━━━━━━━━\u001b[0m \u001b[32m268.9/268.9 kB\u001b[0m \u001b[31m6.0 MB/s\u001b[0m eta \u001b[36m0:00:00\u001b[0m00:01\u001b[0m\n",
      "\u001b[?25hInstalling collected packages: redis\n",
      "Successfully installed redis-6.0.0\n"
     ]
    }
   ],
   "source": [
    "!pip install redis"
   ]
  },
  {
   "cell_type": "code",
   "execution_count": 2,
   "id": "2ca78d66-d75b-4d4f-b8e0-930fee3ed22a",
   "metadata": {},
   "outputs": [],
   "source": [
    "import redis\n",
    "\n",
    "r = redis.Redis(host='redis', port=6379, decode_responses=True)"
   ]
  },
  {
   "cell_type": "markdown",
   "id": "cc20800e-d97d-4a2a-970d-de011d7646ae",
   "metadata": {},
   "source": [
    "How many actors and movies are stored in Redis?"
   ]
  },
  {
   "cell_type": "code",
   "execution_count": 14,
   "id": "10074921-b0a5-44bd-ba58-294928309595",
   "metadata": {},
   "outputs": [
    {
     "name": "stdout",
     "output_type": "stream",
     "text": [
      "acteurs : 1320\n",
      "films : 922\n"
     ]
    }
   ],
   "source": [
    "nb_actors = len([k for k in r.scan_iter(\"actor:*\")])\n",
    "nb_movies = len([k for k in r.scan_iter(\"movie:*\")])\n",
    "\n",
    "print(f\"acteurs : {nb_actors}\")\n",
    "print(f\"films : {nb_movies}\")\n"
   ]
  },
  {
   "cell_type": "markdown",
   "id": "72d385b0-6bfe-4bee-9726-b5d638400d5a",
   "metadata": {},
   "source": [
    "List 5 actors born before 1980"
   ]
  },
  {
   "cell_type": "code",
   "execution_count": 15,
   "id": "e8b77abe-da15-431c-92e2-b3ed93646f64",
   "metadata": {},
   "outputs": [
    {
     "name": "stdout",
     "output_type": "stream",
     "text": [
      "('Bill', 'Nighy', '1949')\n",
      "('Ralph', 'Fiennes', '1962')\n",
      "('Kevin', 'Costner', '1955')\n",
      "('Isabella', 'Rossellini', '1952')\n",
      "('Cassi', 'Davis', '1964')\n"
     ]
    }
   ],
   "source": [
    "results = []\n",
    "for key in r.scan_iter(\"actor:*\"):\n",
    "    dob = r.hget(key, \"date_of_birth\")\n",
    "    try:\n",
    "        if int(dob) < 1980:\n",
    "            first_name = r.hget(key, \"first_name\")\n",
    "            last_name = r.hget(key, \"last_name\")\n",
    "            results.append((first_name, last_name, dob))\n",
    "    except:\n",
    "        pass\n",
    "for actor in results[:5]:\n",
    "    print(actor)"
   ]
  },
  {
   "cell_type": "markdown",
   "id": "e4087934-4c59-4eeb-b098-a9c6afec2e39",
   "metadata": {},
   "source": [
    "Retrieve the genre and rating of the movie \"The Imitation Game\"."
   ]
  },
  {
   "cell_type": "code",
   "execution_count": 16,
   "id": "6390243f-8671-4f7b-ae9d-fa9747274cfb",
   "metadata": {},
   "outputs": [
    {
     "name": "stdout",
     "output_type": "stream",
     "text": [
      "Genre : Biography | Note : 8.5\n"
     ]
    }
   ],
   "source": [
    "for key in r.scan_iter(\"movie:*\"):\n",
    "    title = r.hget(key, \"title\")\n",
    "    if title == \"The Imitation Game\":\n",
    "        genre = r.hget(key, \"genre\")\n",
    "        rating = r.hget(key, \"rating\")\n",
    "        print(f\"Genre : {genre} | Note : {rating}\")\n",
    "        break"
   ]
  },
  {
   "cell_type": "markdown",
   "id": "56d7b023-a1fe-46e0-8f3d-ac21175c94fd",
   "metadata": {},
   "source": [
    "List the top 5 highest-rated movies."
   ]
  },
  {
   "cell_type": "code",
   "execution_count": 7,
   "id": "8d0ebda5-8b00-47ff-9d26-d7a9a3e767dc",
   "metadata": {},
   "outputs": [
    {
     "name": "stdout",
     "output_type": "stream",
     "text": [
      "('Boy 9', 9.4)\n",
      "('Vegas (doc)', 9.4)\n",
      "('The Shawshank Redemption', 9.3)\n",
      "('Ween Live in Chicago', 9.2)\n",
      "('Over Canada: An Aerial Adventure', 9.1)\n"
     ]
    }
   ],
   "source": [
    "movies = []\n",
    "\n",
    "for key in r.scan_iter(\"movie:*\"):\n",
    "    title = r.hget(key, \"title\")\n",
    "    try:\n",
    "        rating = float(r.hget(key, \"rating\"))\n",
    "        movies.append((title, rating))\n",
    "    except:\n",
    "        pass\n",
    "\n",
    "top5 = sorted(movies, key=lambda x: x[1], reverse=True)[:5]\n",
    "for m in top5:\n",
    "    print(m)"
   ]
  },
  {
   "cell_type": "markdown",
   "id": "697bf4e8-9543-4577-b9b6-a3ccd9f21e73",
   "metadata": {},
   "source": [
    "How many movies have a rating above 7.5?"
   ]
  },
  {
   "cell_type": "code",
   "execution_count": 17,
   "id": "82922ad4-78e8-4655-b7fd-5661b834dd7d",
   "metadata": {},
   "outputs": [
    {
     "name": "stdout",
     "output_type": "stream",
     "text": [
      "183\n"
     ]
    }
   ],
   "source": [
    "count = 0\n",
    "for key in r.scan_iter(\"movie:*\"):\n",
    "    try:\n",
    "        rating = float(r.hget(key, \"rating\"))\n",
    "        if rating > 7.5:\n",
    "            count += 1\n",
    "    except:\n",
    "        pass\n",
    "\n",
    "print(f\"{count}\")"
   ]
  },
  {
   "cell_type": "markdown",
   "id": "e8beba9b-0ae3-4323-8035-b1ed7a193a8f",
   "metadata": {},
   "source": [
    "Update the rating of the movie \"The Imitation Game\" to 8.5."
   ]
  },
  {
   "cell_type": "code",
   "execution_count": 18,
   "id": "f04584d7-655c-4b55-af63-d7d52d94cfd4",
   "metadata": {},
   "outputs": [
    {
     "name": "stdout",
     "output_type": "stream",
     "text": [
      "update to  8.5\n"
     ]
    }
   ],
   "source": [
    "for key in r.scan_iter(\"movie:*\"):\n",
    "    if r.hget(key, \"title\") == \"The Imitation Game\":\n",
    "        r.hset(key, \"rating\", 8.5)\n",
    "        print(\"update to  8.5\")\n",
    "        break"
   ]
  },
  {
   "cell_type": "markdown",
   "id": "c7aef7a5-b5d4-455a-a482-fccc7f75615f",
   "metadata": {},
   "source": [
    "Add a new actor: \"Zendaya\", born in 1996."
   ]
  },
  {
   "cell_type": "code",
   "execution_count": 19,
   "id": "c14cbc14-00da-4720-a2b7-bd90650ad7e5",
   "metadata": {},
   "outputs": [
    {
     "name": "stdout",
     "output_type": "stream",
     "text": [
      "Zendaya ajoutée sous actor:1321\n"
     ]
    }
   ],
   "source": [
    "new_id = 1\n",
    "while r.exists(f\"actor:{new_id}\"):\n",
    "    new_id += 1\n",
    "\n",
    "r.hset(f\"actor:{new_id}\", mapping={\n",
    "    \"first_name\": \"Zendaya\",\n",
    "    \"last_name\": \"\",\n",
    "    \"date_of_birth\": \"1996\"\n",
    "})\n",
    "\n",
    "print(f\"Zendaya ajoutée sous actor:{new_id}\")"
   ]
  },
  {
   "cell_type": "markdown",
   "id": "5cf54da0-bded-4b73-9c19-2179a31e8f99",
   "metadata": {},
   "source": [
    "Delete the movie with title \"The Room\""
   ]
  },
  {
   "cell_type": "code",
   "execution_count": 20,
   "id": "f8dda05b-9caa-40c3-9ff4-137f2c1d8651",
   "metadata": {},
   "outputs": [],
   "source": [
    "for key in r.scan_iter(\"movie:*\"):\n",
    "    if r.hget(key, \"title\") == \"The Room\":\n",
    "        r.delete(key)\n",
    "        print(\"The Room supprimé.\")\n",
    "        break"
   ]
  }
 ],
 "metadata": {
  "kernelspec": {
   "display_name": "Python 3 (ipykernel)",
   "language": "python",
   "name": "python3"
  },
  "language_info": {
   "codemirror_mode": {
    "name": "ipython",
    "version": 3
   },
   "file_extension": ".py",
   "mimetype": "text/x-python",
   "name": "python",
   "nbconvert_exporter": "python",
   "pygments_lexer": "ipython3",
   "version": "3.11.6"
  }
 },
 "nbformat": 4,
 "nbformat_minor": 5
}
